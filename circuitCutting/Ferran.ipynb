{
 "cells": [
  {
   "cell_type": "code",
   "execution_count": 4,
   "metadata": {},
   "outputs": [],
   "source": [
    "from qiskit import *\n",
    "from qiskit.visualization import *\n",
    "from math import *"
   ]
  },
  {
   "cell_type": "code",
   "execution_count": 13,
   "metadata": {},
   "outputs": [
    {
     "data": {
      "text/html": [
       "<pre style=\"word-wrap: normal;white-space: pre;background: #fff0;line-height: 1.1;font-family: &quot;Courier New&quot;,Courier,monospace\">                                                      \n",
       "q_0: ─────────────────────────────────────────────────\n",
       "        ┌───┐   ┌─────────┐┌───┐┌─────────┐           \n",
       "q_1: ───┤ H ├───┤ Rx(π/2) ├┤ X ├┤ Rx(π/2) ├───────────\n",
       "        ├───┤   └─────────┘└─┬─┘└──┬───┬──┘┌─────────┐\n",
       "q_2: ───┤ H ├────────────────┼─────┤ X ├───┤ Rx(π/2) ├\n",
       "     ┌──┴───┴──┐             │     └─┬─┘   └─────────┘\n",
       "q_3: ┤ Rx(π/2) ├─────────────■───────■────────────────\n",
       "     └─────────┘                                      \n",
       "q_4: ─────────────────────────────────────────────────\n",
       "                                                      \n",
       "c: 5/═════════════════════════════════════════════════\n",
       "                                                      </pre>"
      ],
      "text/plain": [
       "                                                      \n",
       "q_0: ─────────────────────────────────────────────────\n",
       "        ┌───┐   ┌─────────┐┌───┐┌─────────┐           \n",
       "q_1: ───┤ H ├───┤ Rx(π/2) ├┤ X ├┤ Rx(π/2) ├───────────\n",
       "        ├───┤   └─────────┘└─┬─┘└──┬───┬──┘┌─────────┐\n",
       "q_2: ───┤ H ├────────────────┼─────┤ X ├───┤ Rx(π/2) ├\n",
       "     ┌──┴───┴──┐             │     └─┬─┘   └─────────┘\n",
       "q_3: ┤ Rx(π/2) ├─────────────■───────■────────────────\n",
       "     └─────────┘                                      \n",
       "q_4: ─────────────────────────────────────────────────\n",
       "                                                      \n",
       "c: 5/═════════════════════════════════════════════════\n",
       "                                                      "
      ]
     },
     "execution_count": 13,
     "metadata": {},
     "output_type": "execute_result"
    }
   ],
   "source": [
    "circ2 = QuantumCircuit(5,5)\n",
    "circ2.h(range(1,3))\n",
    "circ2.rx(pi/2,1)\n",
    "circ2.rx(pi/2,3)\n",
    "circ2.cx(3,1)\n",
    "circ2.rx(pi/2,1)\n",
    "circ2.cx(3,2)\n",
    "circ2.rx(pi/2,2)\n",
    "circ2.draw()"
   ]
  }
 ],
 "metadata": {
  "kernelspec": {
   "display_name": "Python 3",
   "language": "python",
   "name": "python3"
  },
  "language_info": {
   "codemirror_mode": {
    "name": "ipython",
    "version": 3
   },
   "file_extension": ".py",
   "mimetype": "text/x-python",
   "name": "python",
   "nbconvert_exporter": "python",
   "pygments_lexer": "ipython3",
   "version": "3.10.4"
  },
  "orig_nbformat": 4
 },
 "nbformat": 4,
 "nbformat_minor": 2
}
