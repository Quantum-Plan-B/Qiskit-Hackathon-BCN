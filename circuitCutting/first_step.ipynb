{
 "cells": [
  {
   "cell_type": "code",
   "execution_count": null,
   "metadata": {},
   "outputs": [],
   "source": [
    "import numpy as np\n",
    "import matplotlib.pyplot as plt\n",
    "plt.rcParams.update({'font.size': 16}) # enlarge fonts\n",
    "\n",
    "\n",
    "# Import standard qiskit modules \n",
    "from qiskit import QuantumCircuit, QuantumRegister\n",
    "\n",
    "\n",
    "#For doing exact simulation you can use Statevector (feel free to use something else)\n",
    "from qiskit.quantum_info import Statevector\n",
    "\n",
    "#Your code here \n",
    "\n",
    "\n"
   ]
  },
  {
   "cell_type": "code",
   "execution_count": null,
   "metadata": {},
   "outputs": [],
   "source": [
    "# loading IBMQ account\n",
    "from qiskit import IBMQ\n",
    "\n",
    "# IBMQ.save_account('Token') #you can replace TOKEN with your API token string  (https://quantum-computing.ibm.com/lab/docs/iql/manage/account/ibmq)\n",
    "IBMQ.load_account()\n",
    "\n",
    "#%%\n",
    "\n"
   ]
  },
  {
   "cell_type": "code",
   "execution_count": null,
   "metadata": {},
   "outputs": [],
   "source": [
    "from qiskit import QuantumCircuit\n",
    "\n",
    "circ1 = QuantumCircuit(5,5)\n",
    "circ1.h((range(2)))\n",
    "circ1.cx((0,4))\n",
    "circ1.rx(4)\n",
    "circ1.cx((0,3))\n",
    "circ1.cx(0)\n",
    "circ1.draw(output=\"mpl\")"
   ]
  }
 ],
 "metadata": {
  "language_info": {
   "name": "python"
  },
  "orig_nbformat": 4
 },
 "nbformat": 4,
 "nbformat_minor": 2
}
